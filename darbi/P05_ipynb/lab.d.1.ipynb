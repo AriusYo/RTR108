{
  "nbformat": 4,
  "nbformat_minor": 0,
  "metadata": {
    "kernelspec": {
      "display_name": "Python 3",
      "language": "python",
      "name": "python3"
    },
    "language_info": {
      "codemirror_mode": {
        "name": "ipython",
        "version": 3
      },
      "file_extension": ".py",
      "mimetype": "text/x-python",
      "name": "python",
      "nbconvert_exporter": "python",
      "pygments_lexer": "ipython3",
      "version": "3.6.4"
    },
    "colab": {
      "name": "Copy of lab.d.1.ipynb",
      "provenance": [],
      "collapsed_sections": []
    }
  },
  "cells": [
    {
      "cell_type": "markdown",
      "metadata": {
        "id": "wnDEJSZuzT6z",
        "colab_type": "text"
      },
      "source": [
        "# 1.Laboratorijas darba (Teilora rindas) atskaite"
      ]
    },
    {
      "cell_type": "markdown",
      "metadata": {
        "id": "OmjRr_OzzT63",
        "colab_type": "text"
      },
      "source": [
        "Aprēķinot funkcijas vērtību izmantojot teilora rindu iegūst ļoti tuvu rezultātu vērtībai ko iegūst aprēķinot šo funkciju matemātiski\n"
      ]
    },
    {
      "cell_type": "code",
      "metadata": {
        "id": "zJ_qk2f3zT66",
        "colab_type": "code",
        "colab": {},
        "outputId": "ff938c86-035a-4fb2-b2f5-94afadba498c"
      },
      "source": [
        "from math import cos\n",
        "x = float(input(\"Lietotāj, ievadiet x vērtību:\"))\n",
        "y = cos(x*x)\n",
        "print(\"y=cos(%g)=%1.3f\" %(x*x,y))\n",
        "\n",
        "\n",
        "a = pow(-1,0)*pow(x,0)/(1.)\n",
        "S = a\n",
        "print(\"\\tx\\ta\\tS\")\n",
        "print(\"\\t{}\\t{}\\t{}\".format(x,a,S))\n",
        "\n",
        "for k in range(1, 501):\n",
        "    a = a*(-1)*pow(x,4)/(((2*k)-1)*(2*k))\n",
        "    S = S + a\n",
        "    if(k == 499):\n",
        "        a499 = a\n",
        "    if(k == 500):\n",
        "        a500 = a\n",
        "\n",
        "print(\"%.2f\\t%.2f\\t%.2f\\t%.2f\" %(k,x,a,S))\n",
        "print(\"priekšpēdējā saskaitāmā vērtība: %.5f\" %a499)\n",
        "print(\"pēdējā saskaitāmā vērtība: %.5f\" %a500)\n",
        "print(\"\\n\\t            4\")\n",
        "print(\"\\t          -x^\")\n",
        "print(\"\\tR =  ----------------\")\n",
        "print(\"\\t      (2*k-1)*(2*k)\")\n",
        "print(\"\\n\");\n",
        "\n",
        "print(\"\\n\\t\\t  500\")\n",
        "print(\"\\t\\t______\")\n",
        "print(\"\\t\\t\\\\               k  4*k\")\n",
        "print(\"\\t\\t \\\\          (-1)^*x^\")\n",
        "print(\"\\ty(x)=\\t  |     --------------   = cos(x*x)\")\n",
        "print(\"\\t\\t /           (2*k)!\")\n",
        "print(\"\\t\\t/      \")\n",
        "print(\"\\t\\t------\")\n",
        "print(\"\\t\\t  k=0\")"
      ],
      "execution_count": null,
      "outputs": [
        {
          "output_type": "stream",
          "text": [
            "Lietotāj, ievadiet x vērtību:2\n",
            "y=cos(4)=-0.654\n",
            "\tx\ta\tS\n",
            "\t2.0\t1.0\t1.0\n",
            "500.00\t2.00\t0.00\t-0.65\n",
            "priekšpēdējā saskaitāmā vērtība: -0.00000\n",
            "pēdējā saskaitāmā vērtība: 0.00000\n",
            "\n",
            "\t            4\n",
            "\t          -x^\n",
            "\tR =  ----------------\n",
            "\t      (2*k-1)*(2*k)\n",
            "\n",
            "\n",
            "\n",
            "\t\t  500\n",
            "\t\t______\n",
            "\t\t\\               k  4*k\n",
            "\t\t \\          (-1)^*x^\n",
            "\ty(x)=\t  |     --------------   = cos(x*x)\n",
            "\t\t /           (2*k)!\n",
            "\t\t/      \n",
            "\t\t------\n",
            "\t\t  k=0\n"
          ],
          "name": "stdout"
        }
      ]
    },
    {
      "cell_type": "markdown",
      "metadata": {
        "id": "BPeGgOt3zT7M",
        "colab_type": "text"
      },
      "source": [
        "### Analīze\n",
        "Funkcijas cos(x*x) rezultāts aprēķinot to matemātiski un ar teilora rindu praktiski\n",
        "sakrīt, jo pēdējie saskaitāmie ir ļoti mazas vērtības\n"
      ]
    }
  ]
}
