{
 "cells": [
  {
   "cell_type": "markdown",
   "metadata": {},
   "source": [
    "# 1.Laboratorijas darba (Teilora rindas) atskaite"
   ]
  },
  {
   "cell_type": "markdown",
   "metadata": {},
   "source": [
    "Šeit es aprakstīšu eilora rindu būtību\n",
    "2. paragrāfs\n",
    "3. paragrāf"
   ]
  },
  {
   "cell_type": "code",
   "execution_count": 1,
   "metadata": {},
   "outputs": [
    {
     "name": "stdout",
     "output_type": "stream",
     "text": [
      "Lietotāj, ievadiet x vērtību:2\n",
      "y=cos(4)=-0.654\n",
      "\tx\ta\tS\n",
      "\t2.0\t1.0\t1.0\n",
      "500.00\t2.00\t0.00\t-0.65\n",
      "priekšpēdējā saskaitāmā vērtība: -0.00000\n",
      "pēdējā saskaitāmā vērtība: 0.00000\n",
      "\n",
      "\t            4\n",
      "\t          -x^\n",
      "\tR =  ----------------\n",
      "\t      (2*k-1)*(2*k)\n",
      "\n",
      "\n",
      "\n",
      "\t\t  500\n",
      "\t\t______\n",
      "\t\t\\               k  4*k\n",
      "\t\t \\          (-1)^*x^\n",
      "\ty(x)=\t  |     --------------   = cos(x*x)\n",
      "\t\t /           (2*k)!\n",
      "\t\t/      \n",
      "\t\t------\n",
      "\t\t  k=0\n"
     ]
    }
   ],
   "source": [
    "import math\n",
    "x = float(input(\"Lietotāj, ievadiet x vērtību:\"))\n",
    "y = math.cos(x*x)\n",
    "print(\"y=cos(%g)=%1.3f\" %(x*x,y))\n",
    "\n",
    "a = pow(-1,0)*pow(x,0)/(1.)\n",
    "S = a\n",
    "print(\"\\tx\\ta\\tS\")\n",
    "print(\"\\t{}\\t{}\\t{}\".format(x,a,S))\n",
    "\n",
    "for k in range(1, 501):\n",
    "    a = a*(-1)*pow(x,4)/(((2*k)-1)*(2*k))\n",
    "    S = S + a\n",
    "    if(k == 499):\n",
    "        a499 = a\n",
    "    if(k == 500):\n",
    "        a500 = a\n",
    "\n",
    "print(\"%.2f\\t%.2f\\t%.2f\\t%.2f\" %(k,x,a,S))\n",
    "print(\"priekšpēdējā saskaitāmā vērtība: %.5f\" %a499)\n",
    "print(\"pēdējā saskaitāmā vērtība: %.5f\" %a500)\n",
    "print(\"\\n\\t            4\")\n",
    "print(\"\\t          -x^\")\n",
    "print(\"\\tR =  ----------------\")\n",
    "print(\"\\t      (2*k-1)*(2*k)\")\n",
    "print(\"\\n\");\n",
    "\n",
    "print(\"\\n\\t\\t  500\")\n",
    "print(\"\\t\\t______\")\n",
    "print(\"\\t\\t\\\\               k  4*k\")\n",
    "print(\"\\t\\t \\\\          (-1)^*x^\")\n",
    "print(\"\\ty(x)=\\t  |     --------------   = cos(x*x)\")\n",
    "print(\"\\t\\t /           (2*k)!\")\n",
    "print(\"\\t\\t/      \")\n",
    "print(\"\\t\\t------\")\n",
    "print(\"\\t\\t  k=0\")"
   ]
  },
  {
   "cell_type": "code",
   "execution_count": 2,
   "metadata": {},
   "outputs": [
    {
     "name": "stdout",
     "output_type": "stream",
     "text": [
      "10\n"
     ]
    }
   ],
   "source": []
  },
  {
   "cell_type": "code",
   "execution_count": 3,
   "metadata": {},
   "outputs": [
    {
     "name": "stdout",
     "output_type": "stream",
     "text": [
      "{'__name__': '__main__', '__doc__': 'Automatically created module for IPython interactive environment', '__package__': None, '__loader__': None, '__spec__': None, '__builtin__': <module 'builtins' (built-in)>, '__builtins__': <module 'builtins' (built-in)>, '_ih': ['', 'a = 10', 'print(a)', 'print(vars())'], '_oh': {}, '_dh': ['/home/user/RTR108/darbi'], 'In': ['', 'a = 10', 'print(a)', 'print(vars())'], 'Out': {}, 'get_ipython': <bound method InteractiveShell.get_ipython of <ipykernel.zmqshell.ZMQInteractiveShell object at 0x7f316d1934a8>>, 'exit': <IPython.core.autocall.ZMQExitAutocall object at 0x7f316c0e1a20>, 'quit': <IPython.core.autocall.ZMQExitAutocall object at 0x7f316c0e1a20>, '_': '', '__': '', '___': '', '_i': 'print(a)', '_ii': 'a = 10', '_iii': '', '_i1': 'a = 10', 'a': 10, '_i2': 'print(a)', '_i3': 'print(vars())'}\n"
     ]
    }
   ],
   "source": []
  },
  {
   "cell_type": "markdown",
   "metadata": {},
   "source": [
    "Tagat atkel kautkāds teksts"
   ]
  },
  {
   "cell_type": "code",
   "execution_count": null,
   "metadata": {},
   "outputs": [],
   "source": []
  }
 ],
 "metadata": {
  "kernelspec": {
   "display_name": "Python 3",
   "language": "python",
   "name": "python3"
  },
  "language_info": {
   "codemirror_mode": {
    "name": "ipython",
    "version": 3
   },
   "file_extension": ".py",
   "mimetype": "text/x-python",
   "name": "python",
   "nbconvert_exporter": "python",
   "pygments_lexer": "ipython3",
   "version": "3.6.4"
  }
 },
 "nbformat": 4,
 "nbformat_minor": 2
}
